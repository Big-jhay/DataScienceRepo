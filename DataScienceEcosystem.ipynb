{
 "cells": [
  {
   "cell_type": "markdown",
   "id": "14aa00c8",
   "metadata": {},
   "source": [
    "Data Science Tools and Ecosysytem"
   ]
  },
  {
   "cell_type": "markdown",
   "id": "b883aacc",
   "metadata": {},
   "source": [
    "In this notebook, Data Science Tools and Ecosystem are summarized."
   ]
  },
  {
   "cell_type": "markdown",
   "id": "69f1cbe8",
   "metadata": {},
   "source": [
    "**Objectives:**\n",
    "\n",
    "- Python\n",
    "- R\n",
    "- SQL\n",
    "- JavaScript\n",
    "- Julia"
   ]
  },
  {
   "cell_type": "markdown",
   "id": "9acf9137",
   "metadata": {},
   "source": [
    "Some of the commonly used libraries used by Data Scientits include:\n",
    "1. TensorFlow\n",
    "2. SciKit Learn\n",
    "3. PyTorch\n",
    "4. Keras\n",
    "5. NumPy\n",
    "6. SciPy\n",
    "7. Matplotlib\n",
    "8. Pandas"
   ]
  },
  {
   "cell_type": "markdown",
   "id": "a6d0574e",
   "metadata": {},
   "source": [
    "Data Science Tools\n",
    "\n",
    "|Data Science Tools |\n",
    "|-------------------|\n",
    "|Apache Spark|\n",
    "| Apache Hadoop |\n",
    "| MangoDB |\n",
    "| Kibana |\n",
    "| Kubernotes |\n",
    "| SparkSQL |\n",
    "| Node Red |\n",
    "| ModelDB |\n",
    "| PostgreSQL |"
   ]
  },
  {
   "cell_type": "markdown",
   "id": "1dcfcb1a",
   "metadata": {},
   "source": [
    "### Below are a few examples of evaluating arithemetic expressions in python"
   ]
  },
  {
   "cell_type": "code",
   "execution_count": 3,
   "id": "92e5166f",
   "metadata": {},
   "outputs": [
    {
     "data": {
      "text/plain": [
       "17"
      ]
     },
     "execution_count": 3,
     "metadata": {},
     "output_type": "execute_result"
    }
   ],
   "source": [
    "# Multiplication and addition of integers\n",
    "(3*4) + 5"
   ]
  },
  {
   "cell_type": "code",
   "execution_count": 5,
   "id": "892a78a1",
   "metadata": {},
   "outputs": [
    {
     "name": "stdout",
     "output_type": "stream",
     "text": [
      "3.3333333333333335\n"
     ]
    }
   ],
   "source": [
    "# Convert hours to minutes\n",
    "minutes = 200 % 60\n",
    "hours = 200 / 60\n",
    "\n",
    "print(hours)"
   ]
  },
  {
   "cell_type": "markdown",
   "id": "4a9114bd",
   "metadata": {},
   "source": [
    "## Author\n",
    "Justus Ekon"
   ]
  },
  {
   "cell_type": "code",
   "execution_count": null,
   "id": "1880f4f1",
   "metadata": {},
   "outputs": [],
   "source": []
  }
 ],
 "metadata": {
  "kernelspec": {
   "display_name": "Python 3 (ipykernel)",
   "language": "python",
   "name": "python3"
  },
  "language_info": {
   "codemirror_mode": {
    "name": "ipython",
    "version": 3
   },
   "file_extension": ".py",
   "mimetype": "text/x-python",
   "name": "python",
   "nbconvert_exporter": "python",
   "pygments_lexer": "ipython3",
   "version": "3.11.4"
  }
 },
 "nbformat": 4,
 "nbformat_minor": 5
}
